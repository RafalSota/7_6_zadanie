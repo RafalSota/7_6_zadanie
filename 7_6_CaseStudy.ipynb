{
 "cells": [
  {
   "cell_type": "code",
   "execution_count": 20,
   "id": "3dc21bc5-9ea5-49f6-b5be-778faf717074",
   "metadata": {},
   "outputs": [],
   "source": [
    "#Zamierzasz kupić mieszkanie. Upatrzone M kosztuje w tym momencie 120 tys. zł, jednak przewidujesz, że przez następne 5 lat ceny mieszkań \n",
    "#będą rosły w tempie 5% rocznie. W tym momencie nie dysponujesz wystarczającymi środkami, dlatego znajdujesz ofertę banku, który proponuje lokatę, \n",
    "#do której dopłacasz pewna stałą kwotę na koniec każdego miesiąca. Bank oferuje nominalną stopę procentową w wysokości 12% w skali roku, \n",
    "#przy kapitalizacji miesięcznej.\n",
    "\n",
    "#Ile będzie wynosiła orientacyjna cena mieszkania za 5 lat?\n",
    "#Ile musisz wpłacać do banku każdego miesiąca, aby przy przedstawionej ofercie uzbierać na mieszkanie w ciągu 5 lat?\n",
    "#Stwórz wykres przedstawiający, jak w interwałach miesięcznych zmieniać się będzie cena mieszkania (liniowy wzrost w całym okresie) \n",
    "#oraz wartość twojej lokaty."
   ]
  },
  {
   "cell_type": "code",
   "execution_count": 21,
   "id": "2b0f55fe-ec6b-4fc7-997c-d978aefaac48",
   "metadata": {},
   "outputs": [],
   "source": [
    "import numpy as np\n",
    "import numpy_financial as npf"
   ]
  },
  {
   "cell_type": "code",
   "execution_count": 22,
   "id": "a49291af-08d9-4762-a9a8-410501a97c36",
   "metadata": {},
   "outputs": [],
   "source": [
    "############################################################# MIESZKANIE OBLICZENIA"
   ]
  },
  {
   "cell_type": "code",
   "execution_count": 23,
   "id": "e4370a81-958d-4bd8-9d57-35dfe93ebcfd",
   "metadata": {},
   "outputs": [
    {
     "name": "stdout",
     "output_type": "stream",
     "text": [
      "Orientacyjna cena mieszkania o wartości początkowej 120000 po okresie 5 lat ze wzrostem wartości 5.0% w skali roku będzie wynosić 153153.79\n"
     ]
    }
   ],
   "source": [
    "#npf.fv(rate, nper, pmt, pv, when='end') #funckja procent składany\n",
    "#dopisek _h - house\n",
    "\n",
    "rate_h = 0.05 #oprocentowanie/wzrost wartości w skali roku\n",
    "years_h = 5 #badany okres w latach\n",
    "nper_h = years_h #liczba okresów, rozliczenie roczne\n",
    "pmt_h = 0 #wartość wpłat w każdym okresie\n",
    "pv_h = -120000 #wpłata/wartość początkowa\n",
    "house_value = round(npf.fv(rate_h, nper_h, pmt_h, pv_h, when='end'),2) #oblicza wartość domu po zadanym okresie\n",
    "print(f\"Orientacyjna cena mieszkania o wartości początkowej {-pv_h} po okresie {years_h} lat ze wzrostem wartości {rate_h*100}% w skali roku będzie wynosić {house_value}\")"
   ]
  },
  {
   "cell_type": "code",
   "execution_count": 24,
   "id": "6a5124f3-35ef-4776-b31d-92260c600489",
   "metadata": {},
   "outputs": [
    {
     "name": "stdout",
     "output_type": "stream",
     "text": [
      "Wartość mieszkania urośnie w okresie 5 lat średniomiesięcznie o 552.56 zł - założenie liniowego wzrostu wartości\n"
     ]
    }
   ],
   "source": [
    "# średniomiesięczny wzrost wartości mieszkania\n",
    "month_increase_value_house = round((house_value + pv_h) / (years_h * 12),2)\n",
    "month_increase_value_house\n",
    "print(f\"Wartość mieszkania urośnie w okresie {years_h} lat średniomiesięcznie o {month_increase_value_house} zł - założenie liniowego wzrostu wartości\")"
   ]
  },
  {
   "cell_type": "code",
   "execution_count": 25,
   "id": "1907cdd9-4b1c-4763-b396-0570674be914",
   "metadata": {},
   "outputs": [
    {
     "name": "stdout",
     "output_type": "stream",
     "text": [
      "Macierz średniomiesiecznych wzrostów wartości mieszkania:\n",
      " [552.56 552.56 552.56 552.56 552.56 552.56 552.56 552.56 552.56 552.56\n",
      " 552.56 552.56 552.56 552.56 552.56 552.56 552.56 552.56 552.56 552.56\n",
      " 552.56 552.56 552.56 552.56 552.56 552.56 552.56 552.56 552.56 552.56\n",
      " 552.56 552.56 552.56 552.56 552.56 552.56 552.56 552.56 552.56 552.56\n",
      " 552.56 552.56 552.56 552.56 552.56 552.56 552.56 552.56 552.56 552.56\n",
      " 552.56 552.56 552.56 552.56 552.56 552.56 552.56 552.56 552.56 552.56]\n"
     ]
    }
   ],
   "source": [
    "#macierz średniomiesiecznych wzrostów wartości mieszkania\n",
    "arr_month_increase_value_house = np.zeros(years_h * 12) + month_increase_value_house \n",
    "print(f\"Macierz średniomiesiecznych wzrostów wartości mieszkania:\\n {arr_month_increase_value_house}\")"
   ]
  },
  {
   "cell_type": "code",
   "execution_count": 26,
   "id": "92ac35a4-3f1c-45ce-9aad-0d160d224e29",
   "metadata": {},
   "outputs": [
    {
     "name": "stdout",
     "output_type": "stream",
     "text": [
      "Macierz wartości mieszkania na koniec kolejnych okresów/miesięcy: \n",
      " [120552.56 121105.12 121657.68 122210.24 122762.8  123315.36 123867.92\n",
      " 124420.48 124973.04 125525.6  126078.16 126630.72 127183.28 127735.84\n",
      " 128288.4  128840.96 129393.52 129946.08 130498.64 131051.2  131603.76\n",
      " 132156.32 132708.88 133261.44 133814.   134366.56 134919.12 135471.68\n",
      " 136024.24 136576.8  137129.36 137681.92 138234.48 138787.04 139339.6\n",
      " 139892.16 140444.72 140997.28 141549.84 142102.4  142654.96 143207.52\n",
      " 143760.08 144312.64 144865.2  145417.76 145970.32 146522.88 147075.44\n",
      " 147628.   148180.56 148733.12 149285.68 149838.24 150390.8  150943.36\n",
      " 151495.92 152048.48 152601.04 153153.6 ]\n"
     ]
    }
   ],
   "source": [
    "# macierz wartości mieszkania na koniec kolejnych okresów/miesięcy\n",
    "arr_value_house = np.zeros(years_h * 12) + (-pv_h) + np.cumsum(arr_month_increase_value_house) \n",
    "arr_value_house = np.around(arr_value_house, 2)\n",
    "print(f\"Macierz wartości mieszkania na koniec kolejnych okresów/miesięcy: \\n {arr_value_house}\")"
   ]
  },
  {
   "cell_type": "code",
   "execution_count": 27,
   "id": "2a1bd0f2-64ef-4531-ad33-5ffe9e20a8c7",
   "metadata": {},
   "outputs": [],
   "source": [
    "############################################################# LOKATA OBLICZENIA"
   ]
  },
  {
   "cell_type": "code",
   "execution_count": 28,
   "id": "cf0c52bf-a631-46a2-a45b-aa4fe4124a3f",
   "metadata": {},
   "outputs": [
    {
     "name": "stdout",
     "output_type": "stream",
     "text": [
      "Celem osiągnięcia za 5 lat wartości lokaty na poziomie założonej wartości mieszkania, tj. 153153.79 zł musisz ulokować 50000 zł i wpłacać dodatkowo miesiecznie 725.4 zł\n"
     ]
    }
   ],
   "source": [
    "#npf.pmt(rate, nper, pv, fv, when='end')\n",
    "#dopisek _dep - deposit\n",
    "\n",
    "freq_dep = 12\n",
    "rate_dep = 0.125 #oprocentowanie/wzrost wartości w skali roku\n",
    "rate_dep /= freq_dep\n",
    "years_dep = 5 #badany okres w latach\n",
    "nper_dep = years_h * freq_dep #liczba okresów, rozliczenie miesięczne\n",
    "#pmt_dep = 0 #wartość wpłat w każdym okresie\n",
    "pv_dep = -50000 #wpłata/wartość początkowa\n",
    "fv_dep = house_value\n",
    "monthly_payment = round(-npf.pmt(rate_dep, nper_dep, pv_dep, fv_dep, when='end'),2)\n",
    "print(f\"Celem osiągnięcia za {years_dep} lat wartości lokaty na poziomie założonej wartości mieszkania, tj. {house_value} zł musisz ulokować {-pv_dep} zł i wpłacać dodatkowo miesiecznie {monthly_payment} zł\")\n",
    "#npf.fv(0.010416666, 60, -725.3956, -50000, when='end') # obliczenie lokaty po zadanym okresie, weryfikacja poprawnosci"
   ]
  },
  {
   "cell_type": "code",
   "execution_count": 29,
   "id": "9477086c-7171-4f92-b873-1fab984afec0",
   "metadata": {},
   "outputs": [
    {
     "name": "stdout",
     "output_type": "stream",
     "text": [
      "Tworzenie macierzy wartości lokaty narastająco : \n",
      " [51246.23     0.       0.       0.       0.       0.       0.       0.\n",
      "     0.       0.       0.       0.       0.       0.       0.       0.\n",
      "     0.       0.       0.       0.       0.       0.       0.       0.\n",
      "     0.       0.       0.       0.       0.       0.       0.       0.\n",
      "     0.       0.       0.       0.       0.       0.       0.       0.\n",
      "     0.       0.       0.       0.       0.       0.       0.       0.\n",
      "     0.       0.       0.       0.       0.       0.       0.       0.\n",
      "     0.       0.       0.       0.  ]\n"
     ]
    }
   ],
   "source": [
    "# oblicza pierwszy element macierzy wartości lokaty na koniec miesiąca, tj. dodajemy procent od depozytu i robimy miesięczną wpłatę na koniec miesiąca\n",
    "arr_deposit_value = np.zeros(nper_dep)\n",
    "arr_deposit_value[0] = round(-pv_dep * (1+rate_dep) + monthly_payment, 2)\n",
    "print(f\"Tworzenie macierzy wartości lokaty narastająco : \\n {arr_deposit_value}\")"
   ]
  },
  {
   "cell_type": "code",
   "execution_count": 30,
   "id": "aba7acb8-1085-45df-abde-d0251b14dd9e",
   "metadata": {},
   "outputs": [],
   "source": [
    "# stan lokaty na koniec każdego miesiąca, tj. pobiera poprzedni element, dodaje kapitalizację miesięczną i dodaje stałą miesięczną wpłatę na koniec miesiąca\n",
    "for i in range (1,nper_dep):\n",
    "    arr_deposit_value[i] = np.around((arr_deposit_value[i-1] * (1+rate_dep)) + monthly_payment, 2)"
   ]
  },
  {
   "cell_type": "code",
   "execution_count": 31,
   "id": "a1a974d8-7968-4e22-8a36-e0dfbc3b23e6",
   "metadata": {},
   "outputs": [
    {
     "name": "stdout",
     "output_type": "stream",
     "text": [
      "Macierzy wartości lokaty narastająco : \n",
      " [ 51246.23  52505.44  53777.77  55063.36  56362.34  57674.85  59001.03\n",
      "  60341.02  61694.97  63063.03  64445.34  65842.05  67253.3   68679.26\n",
      "  70120.07  71575.89  73046.87  74533.17  76034.96  77552.39  79085.63\n",
      "  80634.84  82200.19  83781.84  85379.97  86994.74  88626.34  90274.93\n",
      "  91940.69  93623.81  95324.46  97042.82  98779.08 100533.43 102306.05\n",
      " 104097.14 105906.89 107735.49 109583.13 111450.02 113336.36 115242.35\n",
      " 117168.19 119114.09 121080.26 123066.91 125074.26 127102.52 129151.9\n",
      " 131222.63 133314.93 135429.03 137565.15 139723.52 141904.37 144107.94\n",
      " 146334.46 148584.18 150857.33 153154.16]\n"
     ]
    }
   ],
   "source": [
    "print(f\"Macierzy wartości lokaty narastająco : \\n {arr_deposit_value}\")"
   ]
  },
  {
   "cell_type": "code",
   "execution_count": 32,
   "id": "f6a3d819-21ed-497b-b555-4c441655b3af",
   "metadata": {},
   "outputs": [],
   "source": [
    "############################################################# WYKRESY"
   ]
  },
  {
   "cell_type": "code",
   "execution_count": 33,
   "id": "4e3b002f-164b-40e7-b535-7f19d4f11a50",
   "metadata": {},
   "outputs": [],
   "source": [
    "import matplotlib.pyplot as plt"
   ]
  },
  {
   "cell_type": "code",
   "execution_count": 34,
   "id": "90599be6-0dd2-44bf-894d-42bdb676ecef",
   "metadata": {},
   "outputs": [
    {
     "data": {
      "text/plain": [
       "Text(0, 0.5, 'wartość')"
      ]
     },
     "execution_count": 34,
     "metadata": {},
     "output_type": "execute_result"
    },
    {
     "data": {
      "image/png": "[encoded data removed]",
      "text/plain": [
       "<Figure size 640x480 with 1 Axes>"
      ]
     },
     "metadata": {},
     "output_type": "display_data"
    }
   ],
   "source": [
    "plt.plot(arr_value_house,label='wartość mieszkania')\n",
    "plt.plot(arr_deposit_value,label='wartość lokaty')\n",
    "plt.legend()\n",
    "plt.xlabel('miesiące')\n",
    "plt.ylabel('wartość')"
   ]
  },
  {
   "cell_type": "code",
   "execution_count": null,
   "id": "f07fd5e5-0893-4f6b-bdbf-668c10d0486b",
   "metadata": {},
   "outputs": [],
   "source": []
  },
  {
   "cell_type": "code",
   "execution_count": null,
   "id": "d04221d1-53e4-4db8-b103-8130dd284cad",
   "metadata": {},
   "outputs": [],
   "source": []
  },
  {
   "cell_type": "code",
   "execution_count": null,
   "id": "25ce0afe-a241-41a7-842e-53d9a504e106",
   "metadata": {},
   "outputs": [],
   "source": []
  },
  {
   "cell_type": "code",
   "execution_count": null,
   "id": "addb18e9-cd96-4730-8583-27e02fab46d8",
   "metadata": {},
   "outputs": [],
   "source": []
  },
  {
   "cell_type": "code",
   "execution_count": null,
   "id": "4eb2d594-5f9e-4981-a7af-d4fc70bc602a",
   "metadata": {},
   "outputs": [],
   "source": []
  }
 ],
 "metadata": {
  "kernelspec": {
   "display_name": "Python 3 (ipykernel)",
   "language": "python",
   "name": "python3"
  },
  "language_info": {
   "codemirror_mode": {
    "name": "ipython",
    "version": 3
   },
   "file_extension": ".py",
   "mimetype": "text/x-python",
   "name": "python",
   "nbconvert_exporter": "python",
   "pygments_lexer": "ipython3",
   "version": "3.12.7"
  }
 },
 "nbformat": 4,
 "nbformat_minor": 5
}
